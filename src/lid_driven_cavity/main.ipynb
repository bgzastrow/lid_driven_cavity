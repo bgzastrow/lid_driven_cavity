{
 "cells": [
  {
   "cell_type": "code",
   "execution_count": 1,
   "metadata": {},
   "outputs": [],
   "source": [
    "%load_ext autoreload\n",
    "%autoreload 2"
   ]
  },
  {
   "cell_type": "code",
   "execution_count": 2,
   "metadata": {},
   "outputs": [],
   "source": [
    "from lid_driven_cavity import operators, states\n",
    "import numpy as np"
   ]
  },
  {
   "cell_type": "code",
   "execution_count": 3,
   "metadata": {},
   "outputs": [],
   "source": [
    "# Physics parameters\n",
    "reynolds_numbers = [100, 400, 1000, 3200, 5000]\n",
    "\n",
    "# Boundary conditions\n",
    "u_top = (1, 0)\n",
    "u_bot = (0, 0)\n",
    "u_left = (0, 0)\n",
    "u_right = (0, 0)\n",
    "\n",
    "# Spatial parameters\n",
    "Lx = 1.0\n",
    "Ly = 1.0"
   ]
  },
  {
   "cell_type": "code",
   "execution_count": 4,
   "metadata": {},
   "outputs": [],
   "source": [
    "# Physics parameter\n",
    "Re = reynolds_numbers[-1]\n",
    "\n",
    "# Spatial resolution\n",
    "N = 3  # number of cells in each direction\n",
    "h = 1.0 / N\n",
    "\n",
    "# Temporal resolution\n",
    "k = 1.0  # FIXME arbitrary for now, likely will need to decrease"
   ]
  },
  {
   "cell_type": "markdown",
   "metadata": {},
   "source": [
    "# Setup"
   ]
  },
  {
   "cell_type": "markdown",
   "metadata": {},
   "source": [
    "1. Assume $\\phi^n$ and $u^n$ are known at all interior, boundary, and ghost points."
   ]
  },
  {
   "cell_type": "code",
   "execution_count": 5,
   "metadata": {},
   "outputs": [
    {
     "name": "stdout",
     "output_type": "stream",
     "text": [
      "[[0. 0. 0. 0. 0.]\n",
      " [0. 0. 0. 0. 0.]\n",
      " [0. 0. 0. 0. 0.]\n",
      " [0. 0. 0. 0. 0.]\n",
      " [0. 0. 0. 0. 0.]]\n",
      "[[0. 0. 0. 0.]\n",
      " [0. 0. 0. 0.]\n",
      " [0. 0. 0. 0.]\n",
      " [0. 0. 0. 0.]\n",
      " [0. 0. 0. 0.]]\n",
      "[[0. 0. 0. 0. 0.]\n",
      " [0. 0. 0. 0. 0.]\n",
      " [0. 0. 0. 0. 0.]\n",
      " [0. 0. 0. 0. 0.]]\n"
     ]
    }
   ],
   "source": [
    "phi_n = states.State(np.zeros((N+2, N+2)), Nx=N+2, Ny=N+2)\n",
    "u_n = states.State(np.zeros((N+2, N+1)), Nx=N+1, Ny=N+2)\n",
    "v_n = states.State(np.zeros((N+1, N+2)), Nx=N+2, Ny=N+1)\n",
    "print(phi_n)\n",
    "print(u_n)\n",
    "print(v_n)"
   ]
  },
  {
   "cell_type": "markdown",
   "metadata": {},
   "source": [
    "2. Assume $G(\\phi^n)$ is known at all interior, boundary, and ghost points."
   ]
  },
  {
   "cell_type": "code",
   "execution_count": 6,
   "metadata": {},
   "outputs": [
    {
     "name": "stdout",
     "output_type": "stream",
     "text": [
      "[[0. 0. 0. 0. 0.]\n",
      " [0. 0. 0. 0. 0.]\n",
      " [0. 0. 0. 0. 0.]\n",
      " [0. 0. 0. 0. 0.]\n",
      " [0. 0. 0. 0. 0.]]\n",
      "[[0. 0. 0. 0. 0.]\n",
      " [0. 0. 0. 0. 0.]\n",
      " [0. 0. 0. 0. 0.]\n",
      " [0. 0. 0. 0. 0.]\n",
      " [0. 0. 0. 0. 0.]]\n"
     ]
    }
   ],
   "source": [
    "Gx_phi_n = operators.compute_gradient_x(phi_n)  # on phi grid, no left boundary\n",
    "Gy_phi_n = operators.compute_gradient_y(phi_n)  # on phi grid, no bottom boundary\n",
    "print(Gx_phi_n)\n",
    "print(Gy_phi_n)"
   ]
  },
  {
   "cell_type": "markdown",
   "metadata": {},
   "source": [
    "3. Assume $N(u^{n−1})$ is known at all interior points."
   ]
  },
  {
   "cell_type": "code",
   "execution_count": 7,
   "metadata": {},
   "outputs": [
    {
     "name": "stdout",
     "output_type": "stream",
     "text": [
      "[[0. 0. 0. 0.]\n",
      " [0. 0. 0. 0.]\n",
      " [0. 0. 0. 0.]\n",
      " [0. 0. 0. 0.]\n",
      " [0. 0. 0. 0.]]\n",
      "[[0. 0. 0. 0. 0.]\n",
      " [0. 0. 0. 0. 0.]\n",
      " [0. 0. 0. 0. 0.]\n",
      " [0. 0. 0. 0. 0.]]\n"
     ]
    }
   ],
   "source": [
    "Nu_nm1 = states.State(np.zeros((N+2, N-1+2)), Nx=N-1+2, Ny=N+2)\n",
    "Nv_nm1 = states.State(np.zeros((N-1+2, N+2)), Nx=N+2, Ny=N-1+2)\n",
    "print(Nu_nm1)\n",
    "print(Nv_nm1)"
   ]
  },
  {
   "cell_type": "markdown",
   "metadata": {},
   "source": [
    "# Prediction step"
   ]
  },
  {
   "cell_type": "markdown",
   "metadata": {},
   "source": [
    "4. Compute $\\hat{u}^n$ at all interior points."
   ]
  },
  {
   "cell_type": "code",
   "execution_count": 8,
   "metadata": {},
   "outputs": [
    {
     "name": "stdout",
     "output_type": "stream",
     "text": [
      "[[0. 0. 0.]\n",
      " [0. 0. 0.]\n",
      " [0. 0. 0.]\n",
      " [0. 0. 0.]\n",
      " [0. 0. 0.]]\n",
      "[[0. 0. 0. 0. 0.]\n",
      " [0. 0. 0. 0. 0.]\n",
      " [0. 0. 0. 0. 0.]]\n"
     ]
    }
   ],
   "source": [
    "u_hat_n = operators.compute_interpolated_x(u_n)  # on phi grid, no boundary columns\n",
    "v_hat_n = operators.compute_interpolated_y(v_n)  # on phi grid, no boundary rows\n",
    "print(u_hat_n)\n",
    "print(v_hat_n)"
   ]
  },
  {
   "cell_type": "markdown",
   "metadata": {},
   "source": [
    "5. Compute $N(u^n)$ at all interior points."
   ]
  },
  {
   "cell_type": "code",
   "execution_count": 9,
   "metadata": {},
   "outputs": [
    {
     "name": "stdout",
     "output_type": "stream",
     "text": [
      "[[0. 0.]\n",
      " [0. 0.]\n",
      " [0. 0.]]\n",
      "[[0. 0.]\n",
      " [0. 0.]\n",
      " [0. 0.]]\n",
      "[[0. 0.]\n",
      " [0. 0.]\n",
      " [0. 0.]]\n",
      "[[0. 0.]\n",
      " [0. 0.]\n",
      " [0. 0.]]\n",
      "[[-0. -0.]\n",
      " [-0. -0.]\n",
      " [-0. -0.]]\n",
      "[[ 0.  0.  0.  0.]\n",
      " [ 0. -0. -0.  0.]\n",
      " [ 0. -0. -0.  0.]\n",
      " [ 0. -0. -0.  0.]\n",
      " [ 0.  0.  0.  0.]]\n"
     ]
    }
   ],
   "source": [
    "# Compute gradient of u\n",
    "dudx = operators.compute_gradient_x_centered(u_n)  # on u grid, no boundary columns\n",
    "dudy = operators.compute_gradient_y_centered(u_n)  # on u grid, no boundary rows\n",
    "dudx = dudx.get_matrix()[1:-1, 1:-1]\n",
    "dudy = dudy.get_matrix()[1:-1, 1:-1]\n",
    "print(dudx)\n",
    "print(dudy)\n",
    "\n",
    "# Get interior points of u_n\n",
    "u_n_interior = u_n.get_matrix()[1:-1, 1:-1]\n",
    "print(u_n_interior)\n",
    "\n",
    "# Interpolate v_hat in x direction\n",
    "v_hat_interpolated = operators.compute_interpolated_x(v_hat_n)  # on u grid, no boundary rows\n",
    "v_hat_interpolated = v_hat_interpolated.get_matrix()[:, 1:-1]\n",
    "print(v_hat_interpolated)\n",
    "\n",
    "# [u, v] dot grad(u)\n",
    "Nu_interior = (-u_n_interior*dudx - v_hat_interpolated*dudy) / (2*h)\n",
    "print(Nu_interior)\n",
    "Nu = states.State(Nu_interior, Nx=Nu_interior.shape[1], Ny=Nu_interior.shape[0])\n",
    "Nu.pad_boundaries()\n",
    "print(Nu)\n",
    "\n",
    "# # Compute gradient of v\n",
    "# dvdx = v_n.matrix[:, 2:] - v_n.matrix[:, :-2]  # centered difference in x\n",
    "# dvdx = dvdx[1:-1, :]  # remove ghost points (first and last rows)\n",
    "# print(dvdx)\n",
    "# dvdy = v_n.matrix[2:, :] - v_n.matrix[:-2, :]  # centered difference in y\n",
    "# dvdy = dvdy[:, 1:-1]  # remove boundary points (first and last columns)\n",
    "# print(dvdy)\n",
    "\n",
    "# # Interpolate v_hat in x direction\n",
    "# u_hat_interpolated = (u_hat_n.matrix[1:, :] + u_hat_n.matrix[:-1, :]) / 2\n",
    "# u_hat_interpolated = u_hat_interpolated[1:-1, :]  # remove boundary points (first and last columns)\n",
    "# print(u_hat_interpolated)\n",
    "\n",
    "# # [u, v] dot grad(u)\n",
    "# v_n_interior = v_n.matrix[1:-1, 1:-1]  # remove boundary and ghost points\n",
    "# Nv = (-v_n_interior*dvdx - u_hat_interpolated*dvdy) / (2*h)\n",
    "# print(Nv)"
   ]
  },
  {
   "cell_type": "markdown",
   "metadata": {},
   "source": [
    "6. Evaluate $g(x, t_{n+1})$ at all required locations on the domain boundary."
   ]
  },
  {
   "cell_type": "markdown",
   "metadata": {},
   "source": [
    "7. Solve for $u^*$ at all interior, boundary, and ghost points."
   ]
  },
  {
   "cell_type": "code",
   "execution_count": 10,
   "metadata": {},
   "outputs": [
    {
     "ename": "AttributeError",
     "evalue": "'State' object has no attribute 'matrix'",
     "output_type": "error",
     "traceback": [
      "\u001b[0;31m---------------------------------------------------------------------------\u001b[0m",
      "\u001b[0;31mAttributeError\u001b[0m                            Traceback (most recent call last)",
      "Cell \u001b[0;32mIn[10], line 2\u001b[0m\n\u001b[1;32m      1\u001b[0m \u001b[38;5;66;03m# Assemble Laplacian for u\u001b[39;00m\n\u001b[0;32m----> 2\u001b[0m u_ip1_j \u001b[38;5;241m=\u001b[39m \u001b[43mu_n\u001b[49m\u001b[38;5;241;43m.\u001b[39;49m\u001b[43mmatrix\u001b[49m[:, \u001b[38;5;241m2\u001b[39m:]\n\u001b[1;32m      3\u001b[0m u_ip1_j \u001b[38;5;241m=\u001b[39m u_ip1_j[\u001b[38;5;241m1\u001b[39m:\u001b[38;5;241m-\u001b[39m\u001b[38;5;241m1\u001b[39m, :]\n\u001b[1;32m      4\u001b[0m \u001b[38;5;28mprint\u001b[39m(u_ip1_j)\n",
      "\u001b[0;31mAttributeError\u001b[0m: 'State' object has no attribute 'matrix'"
     ]
    }
   ],
   "source": [
    "# Assemble Laplacian for u\n",
    "u_ip1_j = u_n.matrix[:, 2:]\n",
    "u_ip1_j = u_ip1_j[1:-1, :]\n",
    "print(u_ip1_j)\n",
    "u_i_jp1 = u_n.matrix[:-2, :]\n",
    "u_i_jp1 = u_i_jp1[:, 1:-1]\n",
    "print(u_i_jp1)\n",
    "u_i_j = u_n.matrix[1:-1, 1:-1]\n",
    "print(u_i_j)\n",
    "u_im1_j = u_n.matrix[:, :-2]\n",
    "u_im1_j = u_im1_j[1:-1, :]\n",
    "print(u_im1_j)\n",
    "u_i_jm1 = u_n.matrix[2:, :]\n",
    "u_i_jm1 = u_i_jm1[:, 1:-1]\n",
    "print(u_i_jm1)\n",
    "Lu = (1.0*u_ip1_j + 1.0*u_i_jp1 - 4.0*u_i_j + 1.0*u_im1_j + 1.0*u_i_jm1) / h**2\n",
    "print(Lu)\n",
    "\n",
    "# Assemble Laplacian for v\n",
    "v_ip1_j = v_n.matrix[:, 2:]\n",
    "v_ip1_j = v_ip1_j[1:-1, :]\n",
    "print(v_ip1_j)\n",
    "v_i_jp1 = v_n.matrix[:-2, :]\n",
    "v_i_jp1 = v_i_jp1[:, 1:-1]\n",
    "print(v_i_jp1)\n",
    "v_i_j = v_n.matrix[1:-1, 1:-1]\n",
    "print(v_i_j)\n",
    "v_im1_j = v_n.matrix[:, :-2]\n",
    "v_im1_j = v_im1_j[1:-1, :]\n",
    "print(v_im1_j)\n",
    "v_i_jm1 = v_n.matrix[2:, :]\n",
    "v_i_jm1 = v_i_jm1[:, 1:-1]\n",
    "print(v_i_jm1)\n",
    "Lv = (1.0*v_ip1_j + 1.0*v_i_jp1 - 4.0*v_i_j + 1.0*v_im1_j + 1.0*v_i_jm1) / h**2\n",
    "print(Lv)"
   ]
  },
  {
   "cell_type": "code",
   "execution_count": null,
   "metadata": {},
   "outputs": [],
   "source": [
    "import scipy as sp\n",
    "np.set_printoptions(linewidth=200, threshold=5000, precision=6)\n",
    "\n",
    "# u_star solve\n",
    "# Assemble RHS\n",
    "b_interior = (k/2) * (3*Nu-Nu_nm1.matrix) + u_n.matrix[1:-1, 1:-1] + (k/2)*(1/Re)*Lu\n",
    "\n",
    "# pad with zeros on boundaries\n",
    "b = np.zeros((b_interior.shape[0]+2, b_interior.shape[1]+2))\n",
    "b[1:-1, 1:-1] = b_interior\n",
    "\n",
    "# convert to vector\n",
    "b = states.get_vector(b)\n",
    "\n",
    "# Assemble operator\n",
    "laplacian, b = operators.assemble_laplacian_operator_u(b, Nx=N+1, Ny=N+2, h=h, k=k)\n",
    "# print(laplacian.get_csr().toarray())\n",
    "\n",
    "# Assemble linear system\n",
    "A1 = sp.sparse.eye(laplacian.shape[0], dtype=float, format='csr')\n",
    "A2 = (k/2)*(1/Re)*laplacian.get_csr()\n",
    "A = A1 + A2\n",
    "\n",
    "# Solve implicit step\n",
    "u_star = sp.sparse.linalg.spsolve(A, b)\n",
    "print(states.get_matrix(u_star, 4, 5))\n",
    "\n",
    "# v_star solve\n",
    "# Assemble RHS\n",
    "b_interior = (k/2) * (3*Nv-Nv_nm1.matrix) + v_n.matrix[1:-1, 1:-1] + (k/2)*(1/Re)*Lv  # bookmarkj\n",
    "\n",
    "# pad with zeros on boundaries\n",
    "b = np.zeros((b_interior.shape[0]+2, b_interior.shape[1]+2))\n",
    "b[1:-1, 1:-1] = b_interior\n",
    "\n",
    "# convert to vector\n",
    "b = states.get_vector(b)\n",
    "\n",
    "# Assemble operator\n",
    "laplacian, b = operators.assemble_laplacian_operator_v(b, Nx=N+2, Ny=N+1, h=h, k=k)\n",
    "# print(laplacian.get_csr().toarray())\n",
    "\n",
    "# Assemble linear system\n",
    "A1 = sp.sparse.eye(laplacian.shape[0], dtype=float, format='csr')\n",
    "A2 = (k/2)*(1/Re)*laplacian.get_csr()\n",
    "A = A1 + A2\n",
    "\n",
    "# Solve implicit step\n",
    "v_star = sp.sparse.linalg.spsolve(A, b)\n",
    "print(states.get_matrix(v_star, 5, 4))\n"
   ]
  },
  {
   "cell_type": "markdown",
   "metadata": {},
   "source": [
    "# Poisson problem"
   ]
  },
  {
   "cell_type": "markdown",
   "metadata": {},
   "source": [
    "8. Compute $D(u^*)$ at all interior points."
   ]
  },
  {
   "cell_type": "code",
   "execution_count": null,
   "metadata": {},
   "outputs": [],
   "source": [
    "u_star_matrix = states.get_matrix(u_star, 4, 5)\n",
    "v_star_matrix = states.get_matrix(v_star, 5, 4)\n",
    "print(u_star_matrix)\n",
    "print(v_star_matrix)\n",
    "dudx = u_star_matrix[:, 1:] - u_star_matrix[:, :-1]\n",
    "dvdy = v_star_matrix[1:, :] - v_star_matrix[:-1, :]\n",
    "print(dudx)\n",
    "print(dvdy)\n",
    "dudx_interior = dudx[1:-1, :]\n",
    "dvdy_interior = dvdy[:, 1:-1]\n",
    "print(dudx_interior)\n",
    "print(dvdy_interior)\n",
    "Dstar = (dudx_interior + dvdy_interior) / h\n",
    "print(Dstar)"
   ]
  },
  {
   "cell_type": "markdown",
   "metadata": {},
   "source": [
    "9. Solve for $\\phi^{n+1}$ at all interior and ghost points."
   ]
  },
  {
   "cell_type": "code",
   "execution_count": null,
   "metadata": {},
   "outputs": [],
   "source": [
    "b_interior = Dstar / k\n",
    "\n",
    "# pad with zeros\n",
    "b = np.zeros((b_interior.shape[0]+2, b_interior.shape[1]+2))\n",
    "b[1:-1, 1:-1] = b_interior\n",
    "\n",
    "# convert to vector\n",
    "b = states.get_vector(b)\n",
    "\n",
    "# TODO add ones on main diagonal for state_ij = 0 entries!!!\n",
    "Lphi, b = operators.assemble_laplacian_operator_phi(b, u_star_matrix, v_star_matrix, Nx=N+2, Ny=N+2, h=h, k=k)\n",
    "print(Lphi.get_csr().toarray())\n",
    "\n",
    "# Assemble linear system\n",
    "A = Lphi.get_csr()\n",
    "# A = (k/2)*(1/Re)*laplacian.get_csr()\n",
    "\n",
    "phi_np1 = sp.sparse.linalg.spsolve(A, b)\n",
    "print(phi_np1)"
   ]
  },
  {
   "cell_type": "markdown",
   "metadata": {},
   "source": [
    "# Correction step"
   ]
  },
  {
   "cell_type": "markdown",
   "metadata": {},
   "source": [
    "10. Compute $G(\\phi^{n+1})$ at all interior, boundary, and ghost points."
   ]
  },
  {
   "cell_type": "code",
   "execution_count": null,
   "metadata": {},
   "outputs": [],
   "source": [
    "# G_phi_np1 = lid.gradient(phi_np1)"
   ]
  },
  {
   "cell_type": "markdown",
   "metadata": {},
   "source": [
    "11. Correct $u^*$ to obtain $u^{n+1}$ at all interior, boundary, and ghost points."
   ]
  },
  {
   "cell_type": "code",
   "execution_count": null,
   "metadata": {},
   "outputs": [],
   "source": [
    "# u_np1 = lid.take_correction_step(u_star, G_phi_np1)"
   ]
  },
  {
   "cell_type": "markdown",
   "metadata": {},
   "source": [
    "# Bookkeeping"
   ]
  },
  {
   "cell_type": "markdown",
   "metadata": {},
   "source": [
    "12. Update counter from $n$ to $n + 1$ and time from $t_n$ to $t_{n+1}$."
   ]
  },
  {
   "cell_type": "code",
   "execution_count": null,
   "metadata": {},
   "outputs": [],
   "source": [
    "# n = n + 1\n",
    "# tn = tn + k"
   ]
  },
  {
   "cell_type": "markdown",
   "metadata": {},
   "source": [
    "13. Repeat from Step 1."
   ]
  }
 ],
 "metadata": {
  "kernelspec": {
   "display_name": ".venv",
   "language": "python",
   "name": "python3"
  },
  "language_info": {
   "codemirror_mode": {
    "name": "ipython",
    "version": 3
   },
   "file_extension": ".py",
   "mimetype": "text/x-python",
   "name": "python",
   "nbconvert_exporter": "python",
   "pygments_lexer": "ipython3",
   "version": "3.10.6"
  }
 },
 "nbformat": 4,
 "nbformat_minor": 2
}
