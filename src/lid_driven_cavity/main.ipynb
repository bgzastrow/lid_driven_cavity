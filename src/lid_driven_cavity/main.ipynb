{
 "cells": [
  {
   "cell_type": "code",
   "execution_count": 1,
   "metadata": {},
   "outputs": [],
   "source": [
    "%load_ext autoreload\n",
    "%autoreload 2"
   ]
  },
  {
   "cell_type": "code",
   "execution_count": 2,
   "metadata": {},
   "outputs": [],
   "source": [
    "from lid_driven_cavity import operators, states\n",
    "import numpy as np\n",
    "\n",
    "import scipy as sp\n",
    "np.set_printoptions(linewidth=2000, threshold=5000, precision=6)"
   ]
  },
  {
   "cell_type": "code",
   "execution_count": 3,
   "metadata": {},
   "outputs": [],
   "source": [
    "# Physics parameters\n",
    "reynolds_numbers = [100, 400, 1000, 3200, 5000]\n",
    "\n",
    "# Boundary conditions\n",
    "u_top = (1, 0)\n",
    "u_bot = (0, 0)\n",
    "u_left = (0, 0)\n",
    "u_right = (0, 0)\n",
    "\n",
    "# Spatial parameters\n",
    "Lx = 1.0\n",
    "Ly = 1.0"
   ]
  },
  {
   "cell_type": "code",
   "execution_count": 4,
   "metadata": {},
   "outputs": [],
   "source": [
    "# Physics parameter\n",
    "Re = reynolds_numbers[-1]\n",
    "\n",
    "# Spatial resolution\n",
    "N = 3  # number of cells in each direction\n",
    "h = 1.0 / N\n",
    "\n",
    "# Temporal resolution\n",
    "k = 1.0  # FIXME arbitrary for now, likely will need to decrease"
   ]
  },
  {
   "cell_type": "markdown",
   "metadata": {},
   "source": [
    "# Setup"
   ]
  },
  {
   "cell_type": "markdown",
   "metadata": {},
   "source": [
    "1. Assume $\\phi^n$ and $u^n$ are known at all interior, boundary, and ghost points."
   ]
  },
  {
   "cell_type": "code",
   "execution_count": 5,
   "metadata": {},
   "outputs": [
    {
     "name": "stdout",
     "output_type": "stream",
     "text": [
      "[[0. 0. 0. 0. 0.]\n",
      " [0. 0. 0. 0. 0.]\n",
      " [0. 0. 0. 0. 0.]\n",
      " [0. 0. 0. 0. 0.]\n",
      " [0. 0. 0. 0. 0.]]\n",
      "[[0. 0. 0. 0.]\n",
      " [0. 0. 0. 0.]\n",
      " [0. 0. 0. 0.]\n",
      " [0. 0. 0. 0.]\n",
      " [0. 0. 0. 0.]]\n",
      "[[0. 0. 0. 0. 0.]\n",
      " [0. 0. 0. 0. 0.]\n",
      " [0. 0. 0. 0. 0.]\n",
      " [0. 0. 0. 0. 0.]]\n"
     ]
    }
   ],
   "source": [
    "phi_n = states.State(np.zeros((N+2, N+2)), Nx=N+2, Ny=N+2)\n",
    "u_n = states.State(np.zeros((N+2, N+1)), Nx=N+1, Ny=N+2)\n",
    "v_n = states.State(np.zeros((N+1, N+2)), Nx=N+2, Ny=N+1)\n",
    "print(phi_n)\n",
    "print(u_n)\n",
    "print(v_n)"
   ]
  },
  {
   "cell_type": "markdown",
   "metadata": {},
   "source": [
    "2. Assume $G(\\phi^n)$ is known at all interior, boundary, and ghost points."
   ]
  },
  {
   "cell_type": "code",
   "execution_count": 6,
   "metadata": {},
   "outputs": [
    {
     "name": "stdout",
     "output_type": "stream",
     "text": [
      "[[0. 0. 0. 0. 0.]\n",
      " [0. 0. 0. 0. 0.]\n",
      " [0. 0. 0. 0. 0.]\n",
      " [0. 0. 0. 0. 0.]\n",
      " [0. 0. 0. 0. 0.]]\n",
      "[[0. 0. 0. 0. 0.]\n",
      " [0. 0. 0. 0. 0.]\n",
      " [0. 0. 0. 0. 0.]\n",
      " [0. 0. 0. 0. 0.]\n",
      " [0. 0. 0. 0. 0.]]\n"
     ]
    }
   ],
   "source": [
    "Gx_phi_n = operators.compute_gradient_x(phi_n)  # on phi grid, no left boundary\n",
    "Gy_phi_n = operators.compute_gradient_y(phi_n)  # on phi grid, no bottom boundary\n",
    "print(Gx_phi_n)\n",
    "print(Gy_phi_n)"
   ]
  },
  {
   "cell_type": "markdown",
   "metadata": {},
   "source": [
    "3. Assume $N(u^{n−1})$ is known at all interior points."
   ]
  },
  {
   "cell_type": "code",
   "execution_count": 7,
   "metadata": {},
   "outputs": [
    {
     "name": "stdout",
     "output_type": "stream",
     "text": [
      "[[0. 0. 0. 0.]\n",
      " [0. 0. 0. 0.]\n",
      " [0. 0. 0. 0.]\n",
      " [0. 0. 0. 0.]\n",
      " [0. 0. 0. 0.]]\n",
      "[[0. 0. 0. 0. 0.]\n",
      " [0. 0. 0. 0. 0.]\n",
      " [0. 0. 0. 0. 0.]\n",
      " [0. 0. 0. 0. 0.]]\n"
     ]
    }
   ],
   "source": [
    "Nu_nm1 = states.State(np.zeros((N+2, N-1+2)), Nx=N-1+2, Ny=N+2)\n",
    "Nv_nm1 = states.State(np.zeros((N-1+2, N+2)), Nx=N+2, Ny=N-1+2)\n",
    "print(Nu_nm1)\n",
    "print(Nv_nm1)"
   ]
  },
  {
   "cell_type": "markdown",
   "metadata": {},
   "source": [
    "# Prediction step"
   ]
  },
  {
   "cell_type": "markdown",
   "metadata": {},
   "source": [
    "4. Compute $\\hat{u}^n$ at all interior points."
   ]
  },
  {
   "cell_type": "code",
   "execution_count": 8,
   "metadata": {},
   "outputs": [
    {
     "name": "stdout",
     "output_type": "stream",
     "text": [
      "[[0. 0. 0.]\n",
      " [0. 0. 0.]\n",
      " [0. 0. 0.]\n",
      " [0. 0. 0.]\n",
      " [0. 0. 0.]]\n",
      "[[0. 0. 0. 0. 0.]\n",
      " [0. 0. 0. 0. 0.]\n",
      " [0. 0. 0. 0. 0.]]\n"
     ]
    }
   ],
   "source": [
    "u_hat_n = operators.compute_interpolated_x(u_n)  # on phi grid, no boundary columns\n",
    "v_hat_n = operators.compute_interpolated_y(v_n)  # on phi grid, no boundary rows\n",
    "print(u_hat_n)\n",
    "print(v_hat_n)"
   ]
  },
  {
   "cell_type": "markdown",
   "metadata": {},
   "source": [
    "5. Compute $N(u^n)$ at all interior points."
   ]
  },
  {
   "cell_type": "code",
   "execution_count": 9,
   "metadata": {},
   "outputs": [
    {
     "name": "stdout",
     "output_type": "stream",
     "text": [
      "[[ 0.  0.  0.  0.]\n",
      " [ 0. -0. -0.  0.]\n",
      " [ 0. -0. -0.  0.]\n",
      " [ 0. -0. -0.  0.]\n",
      " [ 0.  0.  0.  0.]]\n",
      "[[ 0.  0.  0.  0.  0.]\n",
      " [ 0. -0. -0. -0.  0.]\n",
      " [ 0. -0. -0. -0.  0.]\n",
      " [ 0.  0.  0.  0.  0.]]\n"
     ]
    }
   ],
   "source": [
    "Nu = operators.compute_Nu(u_n, v_hat_n, h)\n",
    "Nv = operators.compute_Nv(v_n, u_hat_n, h)\n",
    "print(Nu)\n",
    "print(Nv)"
   ]
  },
  {
   "cell_type": "markdown",
   "metadata": {},
   "source": [
    "6. Evaluate $g(x, t_{n+1})$ at all required locations on the domain boundary."
   ]
  },
  {
   "cell_type": "markdown",
   "metadata": {},
   "source": [
    "7. Solve for $u^*$ at all interior, boundary, and ghost points."
   ]
  },
  {
   "cell_type": "code",
   "execution_count": 10,
   "metadata": {},
   "outputs": [
    {
     "name": "stdout",
     "output_type": "stream",
     "text": [
      "[[0. 0. 0. 0.]\n",
      " [0. 0. 0. 0.]\n",
      " [0. 0. 0. 0.]\n",
      " [0. 0. 0. 0.]\n",
      " [0. 0. 0. 0.]]\n",
      "[[0. 0. 0. 0. 0.]\n",
      " [0. 0. 0. 0. 0.]\n",
      " [0. 0. 0. 0. 0.]\n",
      " [0. 0. 0. 0. 0.]]\n"
     ]
    }
   ],
   "source": [
    "Lu = operators.compute_laplace(u_n)\n",
    "Lv = operators.compute_laplace(v_n)\n",
    "print(Lu)\n",
    "print(Lv)"
   ]
  },
  {
   "cell_type": "code",
   "execution_count": 11,
   "metadata": {},
   "outputs": [
    {
     "name": "stdout",
     "output_type": "stream",
     "text": [
      "[[1.0000e+00 0.0000e+00 0.0000e+00 0.0000e+00 0.0000e+00 0.0000e+00 0.0000e+00 0.0000e+00 0.0000e+00 0.0000e+00 0.0000e+00 0.0000e+00 0.0000e+00 0.0000e+00 0.0000e+00 0.0000e+00 0.0000e+00 0.0000e+00 0.0000e+00 0.0000e+00]\n",
      " [0.0000e+00 1.0001e+00 0.0000e+00 0.0000e+00 0.0000e+00 1.0000e-04 0.0000e+00 0.0000e+00 0.0000e+00 0.0000e+00 0.0000e+00 0.0000e+00 0.0000e+00 0.0000e+00 0.0000e+00 0.0000e+00 0.0000e+00 0.0000e+00 0.0000e+00 0.0000e+00]\n",
      " [0.0000e+00 0.0000e+00 1.0001e+00 0.0000e+00 0.0000e+00 0.0000e+00 1.0000e-04 0.0000e+00 0.0000e+00 0.0000e+00 0.0000e+00 0.0000e+00 0.0000e+00 0.0000e+00 0.0000e+00 0.0000e+00 0.0000e+00 0.0000e+00 0.0000e+00 0.0000e+00]\n",
      " [0.0000e+00 0.0000e+00 0.0000e+00 1.0000e+00 0.0000e+00 0.0000e+00 0.0000e+00 0.0000e+00 0.0000e+00 0.0000e+00 0.0000e+00 0.0000e+00 0.0000e+00 0.0000e+00 0.0000e+00 0.0000e+00 0.0000e+00 0.0000e+00 0.0000e+00 0.0000e+00]\n",
      " [0.0000e+00 0.0000e+00 0.0000e+00 0.0000e+00 1.0001e+00 0.0000e+00 0.0000e+00 0.0000e+00 0.0000e+00 0.0000e+00 0.0000e+00 0.0000e+00 0.0000e+00 0.0000e+00 0.0000e+00 0.0000e+00 0.0000e+00 0.0000e+00 0.0000e+00 0.0000e+00]\n",
      " [0.0000e+00 9.0000e-04 0.0000e+00 0.0000e+00 9.0000e-04 9.9640e-01 9.0000e-04 0.0000e+00 0.0000e+00 9.0000e-04 0.0000e+00 0.0000e+00 0.0000e+00 0.0000e+00 0.0000e+00 0.0000e+00 0.0000e+00 0.0000e+00 0.0000e+00 0.0000e+00]\n",
      " [0.0000e+00 0.0000e+00 9.0000e-04 0.0000e+00 0.0000e+00 9.0000e-04 9.9640e-01 9.0000e-04 0.0000e+00 0.0000e+00 9.0000e-04 0.0000e+00 0.0000e+00 0.0000e+00 0.0000e+00 0.0000e+00 0.0000e+00 0.0000e+00 0.0000e+00 0.0000e+00]\n",
      " [0.0000e+00 0.0000e+00 0.0000e+00 0.0000e+00 0.0000e+00 0.0000e+00 0.0000e+00 1.0001e+00 0.0000e+00 0.0000e+00 0.0000e+00 0.0000e+00 0.0000e+00 0.0000e+00 0.0000e+00 0.0000e+00 0.0000e+00 0.0000e+00 0.0000e+00 0.0000e+00]\n",
      " [0.0000e+00 0.0000e+00 0.0000e+00 0.0000e+00 0.0000e+00 0.0000e+00 0.0000e+00 0.0000e+00 1.0001e+00 0.0000e+00 0.0000e+00 0.0000e+00 0.0000e+00 0.0000e+00 0.0000e+00 0.0000e+00 0.0000e+00 0.0000e+00 0.0000e+00 0.0000e+00]\n",
      " [0.0000e+00 0.0000e+00 0.0000e+00 0.0000e+00 0.0000e+00 9.0000e-04 0.0000e+00 0.0000e+00 9.0000e-04 9.9640e-01 9.0000e-04 0.0000e+00 0.0000e+00 9.0000e-04 0.0000e+00 0.0000e+00 0.0000e+00 0.0000e+00 0.0000e+00 0.0000e+00]\n",
      " [0.0000e+00 0.0000e+00 0.0000e+00 0.0000e+00 0.0000e+00 0.0000e+00 9.0000e-04 0.0000e+00 0.0000e+00 9.0000e-04 9.9640e-01 9.0000e-04 0.0000e+00 0.0000e+00 9.0000e-04 0.0000e+00 0.0000e+00 0.0000e+00 0.0000e+00 0.0000e+00]\n",
      " [0.0000e+00 0.0000e+00 0.0000e+00 0.0000e+00 0.0000e+00 0.0000e+00 0.0000e+00 0.0000e+00 0.0000e+00 0.0000e+00 0.0000e+00 1.0001e+00 0.0000e+00 0.0000e+00 0.0000e+00 0.0000e+00 0.0000e+00 0.0000e+00 0.0000e+00 0.0000e+00]\n",
      " [0.0000e+00 0.0000e+00 0.0000e+00 0.0000e+00 0.0000e+00 0.0000e+00 0.0000e+00 0.0000e+00 0.0000e+00 0.0000e+00 0.0000e+00 0.0000e+00 1.0001e+00 0.0000e+00 0.0000e+00 0.0000e+00 0.0000e+00 0.0000e+00 0.0000e+00 0.0000e+00]\n",
      " [0.0000e+00 0.0000e+00 0.0000e+00 0.0000e+00 0.0000e+00 0.0000e+00 0.0000e+00 0.0000e+00 0.0000e+00 9.0000e-04 0.0000e+00 0.0000e+00 9.0000e-04 9.9640e-01 9.0000e-04 0.0000e+00 0.0000e+00 9.0000e-04 0.0000e+00 0.0000e+00]\n",
      " [0.0000e+00 0.0000e+00 0.0000e+00 0.0000e+00 0.0000e+00 0.0000e+00 0.0000e+00 0.0000e+00 0.0000e+00 0.0000e+00 9.0000e-04 0.0000e+00 0.0000e+00 9.0000e-04 9.9640e-01 9.0000e-04 0.0000e+00 0.0000e+00 9.0000e-04 0.0000e+00]\n",
      " [0.0000e+00 0.0000e+00 0.0000e+00 0.0000e+00 0.0000e+00 0.0000e+00 0.0000e+00 0.0000e+00 0.0000e+00 0.0000e+00 0.0000e+00 0.0000e+00 0.0000e+00 0.0000e+00 0.0000e+00 1.0001e+00 0.0000e+00 0.0000e+00 0.0000e+00 0.0000e+00]\n",
      " [0.0000e+00 0.0000e+00 0.0000e+00 0.0000e+00 0.0000e+00 0.0000e+00 0.0000e+00 0.0000e+00 0.0000e+00 0.0000e+00 0.0000e+00 0.0000e+00 0.0000e+00 0.0000e+00 0.0000e+00 0.0000e+00 1.0000e+00 0.0000e+00 0.0000e+00 0.0000e+00]\n",
      " [0.0000e+00 0.0000e+00 0.0000e+00 0.0000e+00 0.0000e+00 0.0000e+00 0.0000e+00 0.0000e+00 0.0000e+00 0.0000e+00 0.0000e+00 0.0000e+00 0.0000e+00 1.0000e-04 0.0000e+00 0.0000e+00 0.0000e+00 1.0001e+00 0.0000e+00 0.0000e+00]\n",
      " [0.0000e+00 0.0000e+00 0.0000e+00 0.0000e+00 0.0000e+00 0.0000e+00 0.0000e+00 0.0000e+00 0.0000e+00 0.0000e+00 0.0000e+00 0.0000e+00 0.0000e+00 0.0000e+00 1.0000e-04 0.0000e+00 0.0000e+00 0.0000e+00 1.0001e+00 0.0000e+00]\n",
      " [0.0000e+00 0.0000e+00 0.0000e+00 0.0000e+00 0.0000e+00 0.0000e+00 0.0000e+00 0.0000e+00 0.0000e+00 0.0000e+00 0.0000e+00 0.0000e+00 0.0000e+00 0.0000e+00 0.0000e+00 0.0000e+00 0.0000e+00 0.0000e+00 0.0000e+00 1.0000e+00]]\n",
      "[0. 0. 0. 0. 0. 0. 0. 0. 0. 0. 0. 0. 0. 0. 0. 0. 0. 2. 2. 0.]\n",
      "[[ 0.000000e+00  1.999800e+00  1.999800e+00  0.000000e+00]\n",
      " [ 0.000000e+00 -1.804694e-03 -1.804694e-03  0.000000e+00]\n",
      " [ 0.000000e+00  1.628623e-06  1.628623e-06  0.000000e+00]\n",
      " [ 0.000000e+00 -1.469730e-09 -1.469730e-09  0.000000e+00]\n",
      " [ 0.000000e+00  1.469583e-13  1.469583e-13  0.000000e+00]]\n"
     ]
    }
   ],
   "source": [
    "# Assemble RHS\n",
    "b_interior_u = (k/2) * (3*Nu.get_matrix()-Nu_nm1.get_matrix()) + u_n.get_matrix() + (k/2)*(1/Re)*Lu.get_matrix()\n",
    "b_interior_u = states.strip_boundaries(b_interior_u)\n",
    "\n",
    "# pad with zeros on boundaries\n",
    "b_u = np.zeros((b_interior_u.shape[0]+2, b_interior_u.shape[1]+2))\n",
    "b_u[1:-1, 1:-1] = b_interior_u\n",
    "\n",
    "# convert to vector\n",
    "b_u = states.matrix_to_vector(b_u)\n",
    "\n",
    "# Assemble operator\n",
    "# TODO separate assemble...() into a basic (full) laplace operator and a functionality to edit for BCs\n",
    "laplacian, b = operators.assemble_laplacian_operator_u(b_u, Nx=N+1, Ny=N+2, h=h)\n",
    "\n",
    "# Assemble linear system\n",
    "A1 = sp.sparse.eye(laplacian.shape[0], dtype=float, format='csr')\n",
    "A2 = (k/2)*(1/Re)*laplacian.get_csr()\n",
    "A = A1 + A2\n",
    "\n",
    "print(A.toarray())\n",
    "print(b)\n",
    "\n",
    "# Solve implicit step\n",
    "u_star = sp.sparse.linalg.spsolve(A, b)\n",
    "u_star = states.State(u_star, Nx=4, Ny=5)\n",
    "print(u_star)"
   ]
  },
  {
   "cell_type": "code",
   "execution_count": 12,
   "metadata": {},
   "outputs": [
    {
     "name": "stdout",
     "output_type": "stream",
     "text": [
      "[[1.0000e+00 0.0000e+00 0.0000e+00 0.0000e+00 0.0000e+00 0.0000e+00 0.0000e+00 0.0000e+00 0.0000e+00 0.0000e+00 0.0000e+00 0.0000e+00 0.0000e+00 0.0000e+00 0.0000e+00 0.0000e+00 0.0000e+00 0.0000e+00 0.0000e+00 0.0000e+00]\n",
      " [0.0000e+00 1.0001e+00 0.0000e+00 0.0000e+00 0.0000e+00 0.0000e+00 0.0000e+00 0.0000e+00 0.0000e+00 0.0000e+00 0.0000e+00 0.0000e+00 0.0000e+00 0.0000e+00 0.0000e+00 0.0000e+00 0.0000e+00 0.0000e+00 0.0000e+00 0.0000e+00]\n",
      " [0.0000e+00 0.0000e+00 1.0001e+00 0.0000e+00 0.0000e+00 0.0000e+00 0.0000e+00 0.0000e+00 0.0000e+00 0.0000e+00 0.0000e+00 0.0000e+00 0.0000e+00 0.0000e+00 0.0000e+00 0.0000e+00 0.0000e+00 0.0000e+00 0.0000e+00 0.0000e+00]\n",
      " [0.0000e+00 0.0000e+00 0.0000e+00 1.0001e+00 0.0000e+00 0.0000e+00 0.0000e+00 0.0000e+00 0.0000e+00 0.0000e+00 0.0000e+00 0.0000e+00 0.0000e+00 0.0000e+00 0.0000e+00 0.0000e+00 0.0000e+00 0.0000e+00 0.0000e+00 0.0000e+00]\n",
      " [0.0000e+00 0.0000e+00 0.0000e+00 0.0000e+00 1.0000e+00 0.0000e+00 0.0000e+00 0.0000e+00 0.0000e+00 0.0000e+00 0.0000e+00 0.0000e+00 0.0000e+00 0.0000e+00 0.0000e+00 0.0000e+00 0.0000e+00 0.0000e+00 0.0000e+00 0.0000e+00]\n",
      " [0.0000e+00 0.0000e+00 0.0000e+00 0.0000e+00 0.0000e+00 1.0001e+00 1.0000e-04 0.0000e+00 0.0000e+00 0.0000e+00 0.0000e+00 0.0000e+00 0.0000e+00 0.0000e+00 0.0000e+00 0.0000e+00 0.0000e+00 0.0000e+00 0.0000e+00 0.0000e+00]\n",
      " [0.0000e+00 9.0000e-04 0.0000e+00 0.0000e+00 0.0000e+00 9.0000e-04 9.9640e-01 9.0000e-04 0.0000e+00 0.0000e+00 0.0000e+00 9.0000e-04 0.0000e+00 0.0000e+00 0.0000e+00 0.0000e+00 0.0000e+00 0.0000e+00 0.0000e+00 0.0000e+00]\n",
      " [0.0000e+00 0.0000e+00 9.0000e-04 0.0000e+00 0.0000e+00 0.0000e+00 9.0000e-04 9.9640e-01 9.0000e-04 0.0000e+00 0.0000e+00 0.0000e+00 9.0000e-04 0.0000e+00 0.0000e+00 0.0000e+00 0.0000e+00 0.0000e+00 0.0000e+00 0.0000e+00]\n",
      " [0.0000e+00 0.0000e+00 0.0000e+00 9.0000e-04 0.0000e+00 0.0000e+00 0.0000e+00 9.0000e-04 9.9640e-01 9.0000e-04 0.0000e+00 0.0000e+00 0.0000e+00 9.0000e-04 0.0000e+00 0.0000e+00 0.0000e+00 0.0000e+00 0.0000e+00 0.0000e+00]\n",
      " [0.0000e+00 0.0000e+00 0.0000e+00 0.0000e+00 0.0000e+00 0.0000e+00 0.0000e+00 0.0000e+00 1.0000e-04 1.0001e+00 0.0000e+00 0.0000e+00 0.0000e+00 0.0000e+00 0.0000e+00 0.0000e+00 0.0000e+00 0.0000e+00 0.0000e+00 0.0000e+00]\n",
      " [0.0000e+00 0.0000e+00 0.0000e+00 0.0000e+00 0.0000e+00 0.0000e+00 0.0000e+00 0.0000e+00 0.0000e+00 0.0000e+00 1.0001e+00 1.0000e-04 0.0000e+00 0.0000e+00 0.0000e+00 0.0000e+00 0.0000e+00 0.0000e+00 0.0000e+00 0.0000e+00]\n",
      " [0.0000e+00 0.0000e+00 0.0000e+00 0.0000e+00 0.0000e+00 0.0000e+00 9.0000e-04 0.0000e+00 0.0000e+00 0.0000e+00 9.0000e-04 9.9640e-01 9.0000e-04 0.0000e+00 0.0000e+00 0.0000e+00 9.0000e-04 0.0000e+00 0.0000e+00 0.0000e+00]\n",
      " [0.0000e+00 0.0000e+00 0.0000e+00 0.0000e+00 0.0000e+00 0.0000e+00 0.0000e+00 9.0000e-04 0.0000e+00 0.0000e+00 0.0000e+00 9.0000e-04 9.9640e-01 9.0000e-04 0.0000e+00 0.0000e+00 0.0000e+00 9.0000e-04 0.0000e+00 0.0000e+00]\n",
      " [0.0000e+00 0.0000e+00 0.0000e+00 0.0000e+00 0.0000e+00 0.0000e+00 0.0000e+00 0.0000e+00 9.0000e-04 0.0000e+00 0.0000e+00 0.0000e+00 9.0000e-04 9.9640e-01 9.0000e-04 0.0000e+00 0.0000e+00 0.0000e+00 9.0000e-04 0.0000e+00]\n",
      " [0.0000e+00 0.0000e+00 0.0000e+00 0.0000e+00 0.0000e+00 0.0000e+00 0.0000e+00 0.0000e+00 0.0000e+00 0.0000e+00 0.0000e+00 0.0000e+00 0.0000e+00 1.0000e-04 1.0001e+00 0.0000e+00 0.0000e+00 0.0000e+00 0.0000e+00 0.0000e+00]\n",
      " [0.0000e+00 0.0000e+00 0.0000e+00 0.0000e+00 0.0000e+00 0.0000e+00 0.0000e+00 0.0000e+00 0.0000e+00 0.0000e+00 0.0000e+00 0.0000e+00 0.0000e+00 0.0000e+00 0.0000e+00 1.0000e+00 0.0000e+00 0.0000e+00 0.0000e+00 0.0000e+00]\n",
      " [0.0000e+00 0.0000e+00 0.0000e+00 0.0000e+00 0.0000e+00 0.0000e+00 0.0000e+00 0.0000e+00 0.0000e+00 0.0000e+00 0.0000e+00 0.0000e+00 0.0000e+00 0.0000e+00 0.0000e+00 0.0000e+00 1.0001e+00 0.0000e+00 0.0000e+00 0.0000e+00]\n",
      " [0.0000e+00 0.0000e+00 0.0000e+00 0.0000e+00 0.0000e+00 0.0000e+00 0.0000e+00 0.0000e+00 0.0000e+00 0.0000e+00 0.0000e+00 0.0000e+00 0.0000e+00 0.0000e+00 0.0000e+00 0.0000e+00 0.0000e+00 1.0001e+00 0.0000e+00 0.0000e+00]\n",
      " [0.0000e+00 0.0000e+00 0.0000e+00 0.0000e+00 0.0000e+00 0.0000e+00 0.0000e+00 0.0000e+00 0.0000e+00 0.0000e+00 0.0000e+00 0.0000e+00 0.0000e+00 0.0000e+00 0.0000e+00 0.0000e+00 0.0000e+00 0.0000e+00 1.0001e+00 0.0000e+00]\n",
      " [0.0000e+00 0.0000e+00 0.0000e+00 0.0000e+00 0.0000e+00 0.0000e+00 0.0000e+00 0.0000e+00 0.0000e+00 0.0000e+00 0.0000e+00 0.0000e+00 0.0000e+00 0.0000e+00 0.0000e+00 0.0000e+00 0.0000e+00 0.0000e+00 0.0000e+00 1.0000e+00]]\n",
      "[0. 0. 0. 0. 0. 0. 0. 0. 0. 0. 0. 0. 0. 0. 0. 0. 0. 0. 0. 0.]\n",
      "[[0. 0. 0. 0. 0.]\n",
      " [0. 0. 0. 0. 0.]\n",
      " [0. 0. 0. 0. 0.]\n",
      " [0. 0. 0. 0. 0.]]\n"
     ]
    }
   ],
   "source": [
    "# Assemble RHS\n",
    "b_interior_v = (k/2) * (3*Nv.get_matrix()-Nv_nm1.get_matrix()) + v_n.get_matrix() + (k/2)*(1/Re)*Lv.get_matrix()\n",
    "b_interior_v = states.strip_boundaries(b_interior_v)\n",
    "\n",
    "# pad with zeros on boundaries\n",
    "b_v = np.zeros((b_interior_v.shape[0]+2, b_interior_v.shape[1]+2))\n",
    "b_v[1:-1, 1:-1] = b_interior_v\n",
    "\n",
    "# convert to vector\n",
    "b_v = states.matrix_to_vector(b_v)\n",
    "\n",
    "# Assemble operator\n",
    "# TODO separate assemble...() into a basic (full) laplace operator and a functionality to edit for BCs\n",
    "laplacian, b = operators.assemble_laplacian_operator_v(b_v, Nx=N+2, Ny=N+1, h=h)\n",
    "\n",
    "# Assemble linear system\n",
    "A1 = sp.sparse.eye(laplacian.shape[0], dtype=float, format='csr')\n",
    "A2 = (k/2)*(1/Re)*laplacian.get_csr()\n",
    "A = A1 + A2\n",
    "\n",
    "print(A.toarray())\n",
    "print(b)\n",
    "\n",
    "# Solve implicit step\n",
    "v_star = sp.sparse.linalg.spsolve(A, b)\n",
    "v_star = states.State(v_star, Nx=5, Ny=4)\n",
    "print(v_star)"
   ]
  },
  {
   "cell_type": "markdown",
   "metadata": {},
   "source": [
    "# Poisson problem"
   ]
  },
  {
   "cell_type": "markdown",
   "metadata": {},
   "source": [
    "8. Compute $D(u^*)$ at all interior points."
   ]
  },
  {
   "cell_type": "code",
   "execution_count": 13,
   "metadata": {},
   "outputs": [
    {
     "name": "stdout",
     "output_type": "stream",
     "text": [
      "[[ 0.000000e+00  1.999800e+00  1.999800e+00  0.000000e+00]\n",
      " [ 0.000000e+00 -1.804694e-03 -1.804694e-03  0.000000e+00]\n",
      " [ 0.000000e+00  1.628623e-06  1.628623e-06  0.000000e+00]\n",
      " [ 0.000000e+00 -1.469730e-09 -1.469730e-09  0.000000e+00]\n",
      " [ 0.000000e+00  1.469583e-13  1.469583e-13  0.000000e+00]]\n",
      "[[0. 0. 0. 0. 0.]\n",
      " [0. 0. 0. 0. 0.]\n",
      " [0. 0. 0. 0. 0.]\n",
      " [0. 0. 0. 0. 0.]]\n"
     ]
    }
   ],
   "source": [
    "u_star_matrix = u_star.get_matrix()\n",
    "v_star_matrix = v_star.get_matrix()\n",
    "print(u_star_matrix)\n",
    "print(v_star_matrix)"
   ]
  },
  {
   "cell_type": "code",
   "execution_count": 14,
   "metadata": {},
   "outputs": [
    {
     "name": "stdout",
     "output_type": "stream",
     "text": [
      "[[ 1.999800e+00  0.000000e+00 -1.999800e+00]\n",
      " [-1.804694e-03  2.168404e-19  1.804694e-03]\n",
      " [ 1.628623e-06  2.117582e-22 -1.628623e-06]\n",
      " [-1.469730e-09  0.000000e+00  1.469730e-09]\n",
      " [ 1.469583e-13  0.000000e+00 -1.469583e-13]]\n",
      "[[0. 0. 0. 0. 0.]\n",
      " [0. 0. 0. 0. 0.]\n",
      " [0. 0. 0. 0. 0.]]\n",
      "[[-1.804694e-03  2.168404e-19  1.804694e-03]\n",
      " [ 1.628623e-06  2.117582e-22 -1.628623e-06]\n",
      " [-1.469730e-09  0.000000e+00  1.469730e-09]]\n",
      "[[0. 0. 0.]\n",
      " [0. 0. 0.]\n",
      " [0. 0. 0.]]\n",
      "[[-5.414083e-03  6.505213e-19  5.414083e-03]\n",
      " [ 4.885870e-06  6.352747e-22 -4.885870e-06]\n",
      " [-4.409189e-09  0.000000e+00  4.409189e-09]]\n"
     ]
    }
   ],
   "source": [
    "# TODO refactor and verify order of convergence\n",
    "dudx = u_star_matrix[:, 1:] - u_star_matrix[:, :-1]\n",
    "dvdy = v_star_matrix[1:, :] - v_star_matrix[:-1, :]\n",
    "print(dudx)\n",
    "print(dvdy)\n",
    "\n",
    "dudx_interior = dudx[1:-1, :]\n",
    "dvdy_interior = dvdy[:, 1:-1]\n",
    "print(dudx_interior)\n",
    "print(dvdy_interior)\n",
    "\n",
    "Dstar = (dudx_interior + dvdy_interior) / h\n",
    "print(Dstar)"
   ]
  },
  {
   "cell_type": "markdown",
   "metadata": {},
   "source": [
    "9. Solve for $\\phi^{n+1}$ at all interior and ghost points."
   ]
  },
  {
   "cell_type": "code",
   "execution_count": 24,
   "metadata": {},
   "outputs": [
    {
     "name": "stdout",
     "output_type": "stream",
     "text": [
      "[[ 0.000000e+00  0.000000e+00  0.000000e+00  0.000000e+00  0.000000e+00]\n",
      " [ 0.000000e+00 -5.414083e-03  6.505213e-19  5.414083e-03  0.000000e+00]\n",
      " [ 0.000000e+00  4.885870e-06  6.352747e-22 -4.885870e-06  0.000000e+00]\n",
      " [ 0.000000e+00 -4.409189e-09  0.000000e+00  4.409189e-09  0.000000e+00]\n",
      " [ 0.000000e+00  0.000000e+00  0.000000e+00  0.000000e+00  0.000000e+00]]\n",
      "[[  1.   0.   0.   0.   0.   0.   0.   0.   0.   0.   0.   0.   0.   0.   0.   0.   0.   0.   0.   0.   0.   0.   0.   0.   0.]\n",
      " [  0.   1.   0.   0.   0.   0.  -1.   0.   0.   0.   0.   0.   0.   0.   0.   0.   0.   0.   0.   0.   0.   0.   0.   0.   0.]\n",
      " [  0.   0.   1.   0.   0.   0.   0.  -1.   0.   0.   0.   0.   0.   0.   0.   0.   0.   0.   0.   0.   0.   0.   0.   0.   0.]\n",
      " [  0.   0.   0.   1.   0.   0.   0.   0.  -1.   0.   0.   0.   0.   0.   0.   0.   0.   0.   0.   0.   0.   0.   0.   0.   0.]\n",
      " [  0.   0.   0.   0.   1.   0.   0.   0.   0.   0.   0.   0.   0.   0.   0.   0.   0.   0.   0.   0.   0.   0.   0.   0.   0.]\n",
      " [  0.   0.   0.   0.   0.   1.  -1.   0.   0.   0.   0.   0.   0.   0.   0.   0.   0.   0.   0.   0.   0.   0.   0.   0.   0.]\n",
      " [  0.   9.   0.   0.   0.   9. -36.   9.   0.   0.   0.   9.   0.   0.   0.   0.   0.   0.   0.   0.   0.   0.   0.   0.   0.]\n",
      " [  0.   0.   9.   0.   0.   0.   9. -36.   9.   0.   0.   0.   9.   0.   0.   0.   0.   0.   0.   0.   0.   0.   0.   0.   0.]\n",
      " [  0.   0.   0.   9.   0.   0.   0.   9. -36.   9.   0.   0.   0.   9.   0.   0.   0.   0.   0.   0.   0.   0.   0.   0.   0.]\n",
      " [  0.   0.   0.   0.   0.   0.   0.   0.  -1.   1.   0.   0.   0.   0.   0.   0.   0.   0.   0.   0.   0.   0.   0.   0.   0.]\n",
      " [  0.   0.   0.   0.   0.   0.   0.   0.   0.   0.   1.  -1.   0.   0.   0.   0.   0.   0.   0.   0.   0.   0.   0.   0.   0.]\n",
      " [  0.   0.   0.   0.   0.   0.   9.   0.   0.   0.   9. -36.   9.   0.   0.   0.   9.   0.   0.   0.   0.   0.   0.   0.   0.]\n",
      " [  0.   0.   0.   0.   0.   0.   0.   9.   0.   0.   0.   9. -36.   9.   0.   0.   0.   9.   0.   0.   0.   0.   0.   0.   0.]\n",
      " [  0.   0.   0.   0.   0.   0.   0.   0.   9.   0.   0.   0.   9. -36.   9.   0.   0.   0.   9.   0.   0.   0.   0.   0.   0.]\n",
      " [  0.   0.   0.   0.   0.   0.   0.   0.   0.   0.   0.   0.   0.  -1.   1.   0.   0.   0.   0.   0.   0.   0.   0.   0.   0.]\n",
      " [  0.   0.   0.   0.   0.   0.   0.   0.   0.   0.   0.   0.   0.   0.   0.   1.  -1.   0.   0.   0.   0.   0.   0.   0.   0.]\n",
      " [  0.   0.   0.   0.   0.   0.   0.   0.   0.   0.   0.   9.   0.   0.   0.   9. -36.   9.   0.   0.   0.   9.   0.   0.   0.]\n",
      " [  0.   0.   0.   0.   0.   0.   0.   0.   0.   0.   0.   0.   9.   0.   0.   0.   9. -36.   9.   0.   0.   0.   9.   0.   0.]\n",
      " [  0.   0.   0.   0.   0.   0.   0.   0.   0.   0.   0.   0.   0.   9.   0.   0.   0.   9. -36.   9.   0.   0.   0.   9.   0.]\n",
      " [  0.   0.   0.   0.   0.   0.   0.   0.   0.   0.   0.   0.   0.   0.   0.   0.   0.   0.  -1.   2.   0.   0.   0.   0.   0.]\n",
      " [  0.   0.   0.   0.   0.   0.   0.   0.   0.   0.   0.   0.   0.   0.   0.   0.   0.   0.   0.   0.   0.   0.   0.   0.   0.]\n",
      " [  0.   0.   0.   0.   0.   0.   0.   0.   0.   0.   0.   0.   0.   0.   0.   0.  -1.   0.   0.   0.   0.   1.   0.   0.   0.]\n",
      " [  0.   0.   0.   0.   0.   0.   0.   0.   0.   0.   0.   0.   0.   0.   0.   0.   0.  -1.   0.   0.   0.   0.   1.   0.   0.]\n",
      " [  0.   0.   0.   0.   0.   0.   0.   0.   0.   0.   0.   0.   0.   0.   0.   0.   0.   0.  -1.   0.   0.   0.   0.   1.   0.]\n",
      " [  0.   0.   0.   0.   0.   0.   0.   0.   0.   0.   0.   0.   0.   0.   0.   0.   0.   0.   0.   0.   0.   0.   0.   0.   1.]]\n",
      "(array([0.000000e+00, 4.509056e-04, 3.758336e-04, 3.007830e-04, 0.000000e+00, 4.509056e-04, 4.509024e-04, 3.758394e-04, 3.007816e-04, 3.007830e-04, 5.259494e-04, 5.259583e-04, 3.758400e-04, 2.257216e-04, 2.257219e-04, 7.516872e-04, 7.516845e-04, 3.758406e-04, 1.443279e-10, 3.289062e-10, 0.000000e+00, 7.516872e-04, 3.758376e-04, 2.828991e-09, 0.000000e+00]), 0)\n"
     ]
    }
   ],
   "source": [
    "b_interior = Dstar / k\n",
    "\n",
    "# pad with zeros\n",
    "b = np.zeros((b_interior.shape[0]+2, b_interior.shape[1]+2))\n",
    "b[1:-1, 1:-1] = b_interior\n",
    "print(b)\n",
    "\n",
    "# convert to vector\n",
    "b = states.matrix_to_vector(b)\n",
    "\n",
    "# TODO add ones on main diagonal for state_ij = 0 entries!!!\n",
    "Lphi, b = operators.assemble_laplacian_operator_phi(b, u_star_matrix, v_star_matrix, Nx=N+2, Ny=N+2, h=h, k=k)\n",
    "A = Lphi.get_csr()\n",
    "print(A.toarray())\n",
    "\n",
    "# phi_np1 = sp.sparse.linalg.spsolve(A, b)\n",
    "phi_np1 = sp.sparse.linalg.gmres(A, b)\n",
    "print(phi_np1)\n",
    "phi_np1 = states.State(phi_np1[0], Nx=N+2, Ny=N+2)\n",
    "# phi_np1 = sp.sparse.linalg.cg(A, b)\n",
    "# print(phi_np1)"
   ]
  },
  {
   "cell_type": "markdown",
   "metadata": {},
   "source": [
    "# Correction step"
   ]
  },
  {
   "cell_type": "markdown",
   "metadata": {},
   "source": [
    "10. Compute $G(\\phi^{n+1})$ at all interior, boundary, and ghost points."
   ]
  },
  {
   "cell_type": "code",
   "execution_count": 26,
   "metadata": {},
   "outputs": [],
   "source": [
    "Gx_phi_np1 = operators.compute_gradient_x(phi_np1)\n",
    "Gy_phi_np1 = operators.compute_gradient_y(phi_np1)"
   ]
  },
  {
   "cell_type": "markdown",
   "metadata": {},
   "source": [
    "11. Correct $u^*$ to obtain $u^{n+1}$ at all interior, boundary, and ghost points."
   ]
  },
  {
   "cell_type": "code",
   "execution_count": 38,
   "metadata": {},
   "outputs": [
    {
     "name": "stdout",
     "output_type": "stream",
     "text": [
      "[[ 0.000000e+00  1.999800e+00  1.999800e+00  0.000000e+00]\n",
      " [ 0.000000e+00 -1.804694e-03 -1.804694e-03  0.000000e+00]\n",
      " [ 0.000000e+00  1.628623e-06  1.628623e-06  0.000000e+00]\n",
      " [ 0.000000e+00 -1.469730e-09 -1.469730e-09  0.000000e+00]\n",
      " [ 0.000000e+00  1.469583e-13  1.469583e-13  0.000000e+00]]\n",
      "[[ 3.006749e-03 -1.503398e-03 -1.503339e-03 -1.131597e-08]\n",
      " [-1.070200e-08 -1.503376e-03 -1.503362e-03  7.383131e-10]\n",
      " [ 3.588957e-08 -6.004734e-04 -6.004734e-04  1.037016e-09]\n",
      " [-1.304957e-08 -3.002519e-04 -3.002311e-04  5.430077e-09]\n",
      " [ 1.803623e-03 -3.002881e-04 -3.002025e-04 -1.203132e-03]]\n",
      "[[0. 0. 0. 0. 0.]\n",
      " [0. 0. 0. 0. 0.]\n",
      " [0. 0. 0. 0. 0.]\n",
      " [0. 0. 0. 0. 0.]]\n",
      "[[-3.006749e-03  1.070200e-08 -1.169794e-08  1.073865e-08 -1.315625e-09]\n",
      " [ 9.029513e-04  9.029047e-04  2.376824e-09 -9.028859e-04 -9.028862e-04]\n",
      " [ 3.001749e-04  3.002238e-04  2.352492e-09 -3.002400e-04 -3.002444e-04]\n",
      " [ 1.803623e-03 -1.304957e-08  2.315375e-08 -5.430077e-09  1.203132e-03]]\n"
     ]
    }
   ],
   "source": [
    "u_star_matrix = u_star.get_matrix()\n",
    "Gx_phi_np1_matrix = Gx_phi_np1.get_matrix()\n",
    "Gx_phi_np1_matrix = Gx_phi_np1_matrix[:, 1:]\n",
    "print(u_star_matrix)\n",
    "print(Gx_phi_np1_matrix)\n",
    "\n",
    "v_star_matrix = v_star.get_matrix()\n",
    "Gy_phi_np1_matrix = Gy_phi_np1.get_matrix()\n",
    "Gy_phi_np1_matrix = Gy_phi_np1_matrix[:-1, :]\n",
    "print(v_star_matrix)\n",
    "print(Gy_phi_np1_matrix)"
   ]
  },
  {
   "cell_type": "code",
   "execution_count": 40,
   "metadata": {},
   "outputs": [
    {
     "name": "stdout",
     "output_type": "stream",
     "text": [
      "[[-3.006749e-03  2.001304e+00  2.001304e+00  1.131597e-08]\n",
      " [ 1.070200e-08 -3.013185e-04 -3.013326e-04 -7.383131e-10]\n",
      " [-3.588957e-08  6.021020e-04  6.021020e-04 -1.037016e-09]\n",
      " [ 1.304957e-08  3.002505e-04  3.002296e-04 -5.430077e-09]\n",
      " [-1.803623e-03  3.002881e-04  3.002025e-04  1.203132e-03]]\n",
      "[[ 3.006749e-03 -1.070200e-08  1.169794e-08 -1.073865e-08  1.315625e-09]\n",
      " [-9.029513e-04 -9.029047e-04 -2.376824e-09  9.028859e-04  9.028862e-04]\n",
      " [-3.001749e-04 -3.002238e-04 -2.352492e-09  3.002400e-04  3.002444e-04]\n",
      " [-1.803623e-03  1.304957e-08 -2.315375e-08  5.430077e-09 -1.203132e-03]]\n"
     ]
    }
   ],
   "source": [
    "u_np1_matrix = u_star_matrix - k * Gx_phi_np1_matrix\n",
    "v_np1_matrix = v_star_matrix - k * Gy_phi_np1_matrix\n",
    "print(u_np1_matrix)\n",
    "print(v_np1_matrix)"
   ]
  },
  {
   "cell_type": "markdown",
   "metadata": {},
   "source": [
    "# Bookkeeping"
   ]
  },
  {
   "cell_type": "markdown",
   "metadata": {},
   "source": [
    "12. Update counter from $n$ to $n + 1$ and time from $t_n$ to $t_{n+1}$."
   ]
  },
  {
   "cell_type": "code",
   "execution_count": 18,
   "metadata": {},
   "outputs": [],
   "source": [
    "n = n + 1\n",
    "tn = tn + k"
   ]
  },
  {
   "cell_type": "code",
   "execution_count": 41,
   "metadata": {},
   "outputs": [
    {
     "name": "stdout",
     "output_type": "stream",
     "text": [
      "[[0.000000e+00 7.516872e-04 3.758376e-04 2.828991e-09 0.000000e+00]\n",
      " [7.516872e-04 7.516845e-04 3.758406e-04 1.443279e-10 3.289062e-10]\n",
      " [5.259494e-04 5.259583e-04 3.758400e-04 2.257216e-04 2.257219e-04]\n",
      " [4.509056e-04 4.509024e-04 3.758394e-04 3.007816e-04 3.007830e-04]\n",
      " [0.000000e+00 4.509056e-04 3.758336e-04 3.007830e-04 0.000000e+00]]\n"
     ]
    }
   ],
   "source": [
    "phi_n = states.State(phi_np1, Nx=phi_n.Nx, Ny=phi_n.Ny)\n",
    "u_n = states.State(u_np1_matrix, Nx=u_n.Nx, Ny=u_n.Ny)\n",
    "v_n = states.State(v_np1_matrix, Nx=v_n.Nx, Ny=v_n.Ny)"
   ]
  },
  {
   "cell_type": "code",
   "execution_count": 49,
   "metadata": {},
   "outputs": [],
   "source": [
    "Gx_phi_n = Gx_phi_np1\n",
    "Gy_phi_n = Gy_phi_np1"
   ]
  },
  {
   "cell_type": "code",
   "execution_count": 50,
   "metadata": {},
   "outputs": [],
   "source": [
    "Nu_nm1 = Nu\n",
    "Nv_nm1 = Nv"
   ]
  },
  {
   "cell_type": "markdown",
   "metadata": {},
   "source": [
    "13. Repeat from Step 1."
   ]
  }
 ],
 "metadata": {
  "kernelspec": {
   "display_name": ".venv",
   "language": "python",
   "name": "python3"
  },
  "language_info": {
   "codemirror_mode": {
    "name": "ipython",
    "version": 3
   },
   "file_extension": ".py",
   "mimetype": "text/x-python",
   "name": "python",
   "nbconvert_exporter": "python",
   "pygments_lexer": "ipython3",
   "version": "3.10.6"
  }
 },
 "nbformat": 4,
 "nbformat_minor": 2
}
