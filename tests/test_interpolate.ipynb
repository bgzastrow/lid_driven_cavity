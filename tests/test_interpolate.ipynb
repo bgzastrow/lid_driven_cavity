{
 "cells": [
  {
   "cell_type": "code",
   "execution_count": 1,
   "metadata": {},
   "outputs": [],
   "source": [
    "%load_ext autoreload\n",
    "%autoreload 2"
   ]
  },
  {
   "cell_type": "code",
   "execution_count": 2,
   "metadata": {},
   "outputs": [],
   "source": [
    "import numpy as np\n",
    "from lid_driven_cavity import states, operators, postprocessing"
   ]
  },
  {
   "cell_type": "code",
   "execution_count": 3,
   "metadata": {},
   "outputs": [],
   "source": [
    "np.set_printoptions(linewidth=1000)"
   ]
  },
  {
   "cell_type": "code",
   "execution_count": 4,
   "metadata": {},
   "outputs": [
    {
     "name": "stdout",
     "output_type": "stream",
     "text": [
      "[[7.5 3. ]\n",
      " [3.  5. ]\n",
      " [3.  3. ]]\n",
      "[[6.  4.5 3.5]\n",
      " [2.5 3.5 4.5]]\n"
     ]
    }
   ],
   "source": [
    "A = np.array([\n",
    "    [10, 5, 1],\n",
    "    [2, 4, 6],\n",
    "    [3, 3, 3],\n",
    "])\n",
    "print(operators.compute_interpolated_x(states.State(A, Nx=3, Ny=3)))\n",
    "print(operators.compute_interpolated_y(states.State(A, Nx=3, Ny=3)))"
   ]
  }
 ],
 "metadata": {
  "kernelspec": {
   "display_name": ".venv",
   "language": "python",
   "name": "python3"
  },
  "language_info": {
   "codemirror_mode": {
    "name": "ipython",
    "version": 3
   },
   "file_extension": ".py",
   "mimetype": "text/x-python",
   "name": "python",
   "nbconvert_exporter": "python",
   "pygments_lexer": "ipython3",
   "version": "3.10.6"
  }
 },
 "nbformat": 4,
 "nbformat_minor": 2
}
