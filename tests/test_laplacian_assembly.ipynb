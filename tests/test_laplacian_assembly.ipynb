{
 "cells": [
  {
   "cell_type": "code",
   "execution_count": 1,
   "metadata": {},
   "outputs": [],
   "source": [
    "%load_ext autoreload\n",
    "%autoreload 2"
   ]
  },
  {
   "cell_type": "code",
   "execution_count": 2,
   "metadata": {},
   "outputs": [],
   "source": [
    "import numpy as np\n",
    "from lid_driven_cavity import states, operators, postprocessing"
   ]
  },
  {
   "cell_type": "code",
   "execution_count": 3,
   "metadata": {},
   "outputs": [],
   "source": [
    "np.set_printoptions(linewidth=2000)"
   ]
  },
  {
   "cell_type": "code",
   "execution_count": 4,
   "metadata": {},
   "outputs": [],
   "source": [
    "N = 3\n",
    "Nx = N+1\n",
    "Ny = N+2\n",
    "n = Nx*Ny\n",
    "h = 1 / Nx\n",
    "operator = operators.Operator((n, n))\n",
    "hm2 = h**(-2)\n",
    "b = np.zeros((Ny*Nx,))\n",
    "\n",
    "# loop on internal grid points for now\n",
    "for i in range(1, Nx-1):\n",
    "    for j in range(1, Ny-1):\n",
    "\n",
    "        # pointers\n",
    "        row = states.lij(i, j, Nx)    # this is the row\n",
    "        ip1 = states.lij(i+1, j, Nx)  # (i+1,j)\n",
    "        im1 = states.lij(i-1, j, Nx)  # (i-1,j)\n",
    "        jp1 = states.lij(i, j+1, Nx)  # (i,j+1)\n",
    "        jm1 = states.lij(i, j-1, Nx)  # (i,j-1)\n",
    "\n",
    "        # add coefficients\n",
    "        operator.append(row, row, -4*hm2)  # diagonal\n",
    "        operator.append(row, ip1, hm2)\n",
    "        operator.append(row, im1, hm2)\n",
    "        operator.append(row, jp1, hm2)\n",
    "        operator.append(row, jm1, hm2)\n",
    "\n",
    "# top and bottom surfaces\n",
    "jtop = Ny-1\n",
    "jbottom = 0\n",
    "for i in range(0, Nx):\n",
    "\n",
    "    # top surface (y=1)\n",
    "    row = states.lij(i, jtop, Nx)  # this is the row\n",
    "    jm1 = states.lij(i, jtop-1, Nx)  # (i,j-1)\n",
    "    operator.append(row, row, 1)\n",
    "    operator.append(row, jm1, 1)\n",
    "    b[row] = 2  # TODO add gradient terms\n",
    "\n",
    "    # bottom surface (y=0)\n",
    "    row = states.lij(i, jbottom, Nx)  # this is the row\n",
    "    jp1 = states.lij(i, jbottom+1, Nx)  # (i,j-1)\n",
    "    operator.append(row, row, 1)\n",
    "    operator.append(row, jp1, 1)\n",
    "    b[row] = 0  # TODO add gradient terms\n",
    "\n",
    "# left and right surfaces\n",
    "iright = Nx-1\n",
    "ileft = 0\n",
    "for j in range(1, Ny-1):\n",
    "\n",
    "    # right surface (x=1)\n",
    "    row = states.lij(iright, j, Nx)  # this is the row\n",
    "    operator.append(row, row, 1)\n",
    "    b[row] = 0  # TODO add gradient terms\n",
    "\n",
    "    # left surface (x=0)\n",
    "    row = states.lij(ileft, j, Nx)  # this is the row\n",
    "    operator.append(row, row, 1)\n",
    "    b[row] = 0  # TODO add gradient terms\n"
   ]
  },
  {
   "cell_type": "code",
   "execution_count": 5,
   "metadata": {},
   "outputs": [
    {
     "name": "stdout",
     "output_type": "stream",
     "text": [
      "[[  1.   0.   0.   0.   1.   0.   0.   0.   0.   0.   0.   0.   0.   0.   0.   0.   0.   0.   0.   0.]\n",
      " [  0.   1.   0.   0.   0.   1.   0.   0.   0.   0.   0.   0.   0.   0.   0.   0.   0.   0.   0.   0.]\n",
      " [  0.   0.   1.   0.   0.   0.   1.   0.   0.   0.   0.   0.   0.   0.   0.   0.   0.   0.   0.   0.]\n",
      " [  0.   0.   0.   1.   0.   0.   0.   1.   0.   0.   0.   0.   0.   0.   0.   0.   0.   0.   0.   0.]\n",
      " [  0.   0.   0.   0.   1.   0.   0.   0.   0.   0.   0.   0.   0.   0.   0.   0.   0.   0.   0.   0.]\n",
      " [  0.  16.   0.   0.  16. -64.  16.   0.   0.  16.   0.   0.   0.   0.   0.   0.   0.   0.   0.   0.]\n",
      " [  0.   0.  16.   0.   0.  16. -64.  16.   0.   0.  16.   0.   0.   0.   0.   0.   0.   0.   0.   0.]\n",
      " [  0.   0.   0.   0.   0.   0.   0.   1.   0.   0.   0.   0.   0.   0.   0.   0.   0.   0.   0.   0.]\n",
      " [  0.   0.   0.   0.   0.   0.   0.   0.   1.   0.   0.   0.   0.   0.   0.   0.   0.   0.   0.   0.]\n",
      " [  0.   0.   0.   0.   0.  16.   0.   0.  16. -64.  16.   0.   0.  16.   0.   0.   0.   0.   0.   0.]\n",
      " [  0.   0.   0.   0.   0.   0.  16.   0.   0.  16. -64.  16.   0.   0.  16.   0.   0.   0.   0.   0.]\n",
      " [  0.   0.   0.   0.   0.   0.   0.   0.   0.   0.   0.   1.   0.   0.   0.   0.   0.   0.   0.   0.]\n",
      " [  0.   0.   0.   0.   0.   0.   0.   0.   0.   0.   0.   0.   1.   0.   0.   0.   0.   0.   0.   0.]\n",
      " [  0.   0.   0.   0.   0.   0.   0.   0.   0.  16.   0.   0.  16. -64.  16.   0.   0.  16.   0.   0.]\n",
      " [  0.   0.   0.   0.   0.   0.   0.   0.   0.   0.  16.   0.   0.  16. -64.  16.   0.   0.  16.   0.]\n",
      " [  0.   0.   0.   0.   0.   0.   0.   0.   0.   0.   0.   0.   0.   0.   0.   1.   0.   0.   0.   0.]\n",
      " [  0.   0.   0.   0.   0.   0.   0.   0.   0.   0.   0.   0.   1.   0.   0.   0.   1.   0.   0.   0.]\n",
      " [  0.   0.   0.   0.   0.   0.   0.   0.   0.   0.   0.   0.   0.   1.   0.   0.   0.   1.   0.   0.]\n",
      " [  0.   0.   0.   0.   0.   0.   0.   0.   0.   0.   0.   0.   0.   0.   1.   0.   0.   0.   1.   0.]\n",
      " [  0.   0.   0.   0.   0.   0.   0.   0.   0.   0.   0.   0.   0.   0.   0.   1.   0.   0.   0.   1.]]\n"
     ]
    }
   ],
   "source": [
    "print(operator.get_csr().toarray())"
   ]
  }
 ],
 "metadata": {
  "kernelspec": {
   "display_name": ".venv",
   "language": "python",
   "name": "python3"
  },
  "language_info": {
   "codemirror_mode": {
    "name": "ipython",
    "version": 3
   },
   "file_extension": ".py",
   "mimetype": "text/x-python",
   "name": "python",
   "nbconvert_exporter": "python",
   "pygments_lexer": "ipython3",
   "version": "3.10.6"
  }
 },
 "nbformat": 4,
 "nbformat_minor": 2
}
